{
 "cells": [
  {
   "cell_type": "markdown",
   "metadata": {},
   "source": [
    "# 1. Import Libraries"
   ]
  },
  {
   "cell_type": "code",
   "execution_count": 1,
   "metadata": {},
   "outputs": [],
   "source": [
    "import numpy as np\n",
    "import pandas as pd\n",
    "import matplotlib.pyplot as plt\n",
    "from sklearn.preprocessing import MinMaxScaler\n",
    "from sklearn.metrics import mean_squared_error\n",
    "import tensorflow as tf\n",
    "import math"
   ]
  },
  {
   "cell_type": "markdown",
   "metadata": {},
   "source": [
    "# 2. Preparing Dataset"
   ]
  },
  {
   "cell_type": "code",
   "execution_count": 2,
   "metadata": {},
   "outputs": [],
   "source": [
    "dataset = pd.read_csv('Damavand.csv', usecols=[2,3,4,5], engine='python')\n",
    "dataset = dataset.reindex(index = dataset.index[::-1])"
   ]
  },
  {
   "cell_type": "code",
   "execution_count": 3,
   "metadata": {},
   "outputs": [
    {
     "data": {
      "text/html": [
       "<div>\n",
       "<style scoped>\n",
       "    .dataframe tbody tr th:only-of-type {\n",
       "        vertical-align: middle;\n",
       "    }\n",
       "\n",
       "    .dataframe tbody tr th {\n",
       "        vertical-align: top;\n",
       "    }\n",
       "\n",
       "    .dataframe thead th {\n",
       "        text-align: right;\n",
       "    }\n",
       "</style>\n",
       "<table border=\"1\" class=\"dataframe\">\n",
       "  <thead>\n",
       "    <tr style=\"text-align: right;\">\n",
       "      <th></th>\n",
       "      <th>Open</th>\n",
       "      <th>High</th>\n",
       "      <th>Low</th>\n",
       "      <th>Close</th>\n",
       "    </tr>\n",
       "  </thead>\n",
       "  <tbody>\n",
       "    <tr>\n",
       "      <th>990</th>\n",
       "      <td>74000</td>\n",
       "      <td>74000</td>\n",
       "      <td>74000</td>\n",
       "      <td>74000</td>\n",
       "    </tr>\n",
       "    <tr>\n",
       "      <th>989</th>\n",
       "      <td>77700</td>\n",
       "      <td>77700</td>\n",
       "      <td>77700</td>\n",
       "      <td>77700</td>\n",
       "    </tr>\n",
       "    <tr>\n",
       "      <th>988</th>\n",
       "      <td>81585</td>\n",
       "      <td>81585</td>\n",
       "      <td>79000</td>\n",
       "      <td>81393</td>\n",
       "    </tr>\n",
       "    <tr>\n",
       "      <th>987</th>\n",
       "      <td>82000</td>\n",
       "      <td>82000</td>\n",
       "      <td>80120</td>\n",
       "      <td>80894</td>\n",
       "    </tr>\n",
       "    <tr>\n",
       "      <th>986</th>\n",
       "      <td>80593</td>\n",
       "      <td>80597</td>\n",
       "      <td>77728</td>\n",
       "      <td>78606</td>\n",
       "    </tr>\n",
       "  </tbody>\n",
       "</table>\n",
       "</div>"
      ],
      "text/plain": [
       "      Open   High    Low  Close\n",
       "990  74000  74000  74000  74000\n",
       "989  77700  77700  77700  77700\n",
       "988  81585  81585  79000  81393\n",
       "987  82000  82000  80120  80894\n",
       "986  80593  80597  77728  78606"
      ]
     },
     "execution_count": 3,
     "metadata": {},
     "output_type": "execute_result"
    }
   ],
   "source": [
    "dataset.head()"
   ]
  },
  {
   "cell_type": "code",
   "execution_count": 4,
   "metadata": {},
   "outputs": [],
   "source": [
    "obs = np.arange(1, len(dataset) + 1, 1)"
   ]
  },
  {
   "cell_type": "code",
   "execution_count": null,
   "metadata": {},
   "outputs": [],
   "source": [
    "close_val  = dataset[['Close']]\n",
    "open_val   = dataset[['Open']]\n",
    "high_val   = dataset[['High']]\n",
    "low_val    = dataset[['Low']]\n",
    "volume_val = dataset[['Volume']]"
   ]
  },
  {
   "cell_type": "code",
   "execution_count": 6,
   "metadata": {},
   "outputs": [],
   "source": [
    "OHLC_avg = np.reshape(OHLC_avg.values, (len(OHLC_avg),1)) # 1664\n",
    "scaler = MinMaxScaler(feature_range=(0, 1))\n",
    "dataset = scaler.fit_transform(OHLC_avg)"
   ]
  },
  {
   "cell_type": "code",
   "execution_count": 7,
   "metadata": {},
   "outputs": [
    {
     "name": "stdout",
     "output_type": "stream",
     "text": [
      "743 248\n"
     ]
    }
   ],
   "source": [
    "train_size = int(len(dataset) * 0.75)\n",
    "test_size = len(dataset) - train_size\n",
    "train, test = dataset[0:train_size,:], dataset[train_size:len(dataset),:]\n",
    "print(len(train), len(test))"
   ]
  },
  {
   "cell_type": "code",
   "execution_count": 8,
   "metadata": {},
   "outputs": [],
   "source": [
    "def create_dataset(dataset, look_back=1):\n",
    "    dataX, dataY = [], []\n",
    "    for i in range(len(dataset)-look_back-1):\n",
    "        a = dataset[i:(i+look_back), 0]\n",
    "        dataX.append(a)\n",
    "        dataY.append(dataset[i + look_back, 0])\n",
    "    return np.array(dataX), np.array(dataY)"
   ]
  },
  {
   "cell_type": "code",
   "execution_count": 9,
   "metadata": {},
   "outputs": [],
   "source": [
    "look_back = 1\n",
    "trainX, trainY = create_dataset(train, look_back)\n",
    "testX, testY = create_dataset(test, look_back)"
   ]
  },
  {
   "cell_type": "code",
   "execution_count": 10,
   "metadata": {},
   "outputs": [
    {
     "name": "stdout",
     "output_type": "stream",
     "text": [
      "shape of train dataset (741, 1, 1)\n",
      "shape of test dataset (246, 1, 1)\n"
     ]
    }
   ],
   "source": [
    "trainX = np.reshape(trainX, (trainX.shape[0], 1, trainX.shape[1]))\n",
    "testX = np.reshape(testX, (testX.shape[0], 1, testX.shape[1]))\n",
    "\n",
    "print('shape of train dataset',trainX.shape)\n",
    "print('shape of test dataset',testX.shape)"
   ]
  },
  {
   "cell_type": "code",
   "execution_count": 11,
   "metadata": {},
   "outputs": [],
   "source": [
    "model = tf.keras.models.Sequential()\n",
    "model.add(tf.keras.layers.LSTM(32, input_shape=(1, look_back),return_sequences = True))\n",
    "model.add(tf.keras.layers.LSTM(16))\n",
    "model.add(tf.keras.layers.Dense(1,activation='sigmoid'))"
   ]
  },
  {
   "cell_type": "code",
   "execution_count": 12,
   "metadata": {},
   "outputs": [
    {
     "name": "stdout",
     "output_type": "stream",
     "text": [
      "Model: \"sequential\"\n",
      "_________________________________________________________________\n",
      "Layer (type)                 Output Shape              Param #   \n",
      "=================================================================\n",
      "lstm (LSTM)                  (None, 1, 32)             4352      \n",
      "_________________________________________________________________\n",
      "lstm_1 (LSTM)                (None, 16)                3136      \n",
      "_________________________________________________________________\n",
      "dense (Dense)                (None, 1)                 17        \n",
      "=================================================================\n",
      "Total params: 7,505\n",
      "Trainable params: 7,505\n",
      "Non-trainable params: 0\n",
      "_________________________________________________________________\n"
     ]
    }
   ],
   "source": [
    "model.summary()"
   ]
  },
  {
   "cell_type": "code",
   "execution_count": 13,
   "metadata": {},
   "outputs": [],
   "source": [
    "model.compile(loss='mse', optimizer='adam')"
   ]
  },
  {
   "cell_type": "code",
   "execution_count": null,
   "metadata": {},
   "outputs": [
    {
     "name": "stdout",
     "output_type": "stream",
     "text": [
      "Epoch 1/100\n",
      "741/741 [==============================] - 4s 5ms/step - loss: 0.0493\n",
      "Epoch 2/100\n",
      "741/741 [==============================] - 4s 5ms/step - loss: 0.0029\n",
      "Epoch 3/100\n",
      "741/741 [==============================] - 4s 6ms/step - loss: 0.0013\n",
      "Epoch 4/100\n",
      "741/741 [==============================] - 4s 5ms/step - loss: 0.0012\n",
      "Epoch 5/100\n",
      "741/741 [==============================] - 4s 5ms/step - loss: 0.0012\n",
      "Epoch 6/100\n",
      "741/741 [==============================] - 4s 5ms/step - loss: 0.0012\n",
      "Epoch 7/100\n",
      "741/741 [==============================] - 4s 5ms/step - loss: 0.0012\n",
      "Epoch 8/100\n",
      "741/741 [==============================] - 4s 6ms/step - loss: 0.0012\n",
      "Epoch 9/100\n",
      "741/741 [==============================] - 5s 6ms/step - loss: 0.0011\n",
      "Epoch 10/100\n",
      "741/741 [==============================] - 4s 5ms/step - loss: 0.0011\n",
      "Epoch 11/100\n",
      "741/741 [==============================] - 4s 6ms/step - loss: 0.0011\n",
      "Epoch 12/100\n",
      "741/741 [==============================] - 5s 6ms/step - loss: 0.0011\n",
      "Epoch 13/100\n",
      "741/741 [==============================] - 4s 5ms/step - loss: 0.0011\n",
      "Epoch 14/100\n",
      "741/741 [==============================] - 3s 4ms/step - loss: 0.0011\n",
      "Epoch 15/100\n",
      "741/741 [==============================] - 5s 6ms/step - loss: 0.0011\n",
      "Epoch 16/100\n",
      "741/741 [==============================] - 5s 7ms/step - loss: 0.0011\n",
      "Epoch 17/100\n",
      "741/741 [==============================] - 4s 6ms/step - loss: 0.0011\n",
      "Epoch 18/100\n",
      "741/741 [==============================] - 4s 6ms/step - loss: 0.0011\n",
      "Epoch 19/100\n",
      "741/741 [==============================] - 4s 6ms/step - loss: 9.6679e-04\n",
      "Epoch 20/100\n",
      "679/741 [==========================>...] - ETA: 0s - loss: 0.0011"
     ]
    }
   ],
   "source": [
    "history = model.fit(trainX, trainY, epochs=100, batch_size=1, verbose=1)"
   ]
  },
  {
   "cell_type": "code",
   "execution_count": null,
   "metadata": {},
   "outputs": [],
   "source": [
    "trainPredict = model.predict(trainX)\n",
    "testPredict = model.predict(testX)"
   ]
  },
  {
   "cell_type": "code",
   "execution_count": null,
   "metadata": {},
   "outputs": [],
   "source": [
    "trainPredict = scaler.inverse_transform(trainPredict)\n",
    "trainY = scaler.inverse_transform([trainY])\n",
    "testPredict = scaler.inverse_transform(testPredict)\n",
    "testY = scaler.inverse_transform([testY])"
   ]
  },
  {
   "cell_type": "code",
   "execution_count": null,
   "metadata": {},
   "outputs": [],
   "source": [
    "trainScore = math.sqrt(mean_squared_error(trainY[0], trainPredict[:,0]))\n",
    "print('Train Score: %.2f RMSE' % (trainScore))\n",
    "testScore = math.sqrt(mean_squared_error(testY[0], testPredict[:,0]))\n",
    "print('Test Score: %.2f RMSE' % (testScore))"
   ]
  },
  {
   "cell_type": "code",
   "execution_count": null,
   "metadata": {},
   "outputs": [],
   "source": [
    "trainPredictPlot = np.empty_like(dataset)\n",
    "trainPredictPlot[:, :] = np.nan\n",
    "trainPredictPlot[look_back:len(trainPredict)+look_back, :] = trainPredict"
   ]
  },
  {
   "cell_type": "code",
   "execution_count": null,
   "metadata": {},
   "outputs": [],
   "source": [
    "testPredictPlot = np.empty_like(dataset)\n",
    "testPredictPlot[:, :] = np.nan\n",
    "testPredictPlot[len(trainPredict)+(look_back*2)+1:len(dataset)-1, :] = testPredict"
   ]
  },
  {
   "cell_type": "code",
   "execution_count": null,
   "metadata": {},
   "outputs": [],
   "source": [
    "plt.plot(scaler.inverse_transform(dataset), 'red')\n",
    "plt.plot(trainPredictPlot, 'blue')\n",
    "plt.plot(testPredictPlot, 'green')\n",
    "plt.show()"
   ]
  },
  {
   "cell_type": "code",
   "execution_count": null,
   "metadata": {},
   "outputs": [],
   "source": [
    "last_val = testPredict[-1]\n",
    "last_val_scaled = last_val/last_val\n",
    "next_val = model.predict(np.reshape(last_val_scaled, (1,1,1)))\n",
    "print(\"Last Day Value:\", np.ndarray.item(last_val))\n",
    "print(\"Next Day Value:\", np.ndarray.item(last_val*next_val))"
   ]
  },
  {
   "cell_type": "code",
   "execution_count": null,
   "metadata": {},
   "outputs": [],
   "source": [
    "new=next_val*last_val\n",
    "newscaled=new/new\n",
    "next_val = model.predict(np.reshape(newscaled, (1,1,1)))\n",
    "print(\"Last Day Value:\", np.ndarray.item(new))\n",
    "print(\"Next Day Value:\", np.ndarray.item(new*next_val))"
   ]
  },
  {
   "cell_type": "code",
   "execution_count": null,
   "metadata": {},
   "outputs": [],
   "source": [
    "last_val = testPredict[-1]\n",
    "last_val_scaled = last_val/last_val\n",
    "\n",
    "nextPrice=[]\n",
    "for i in range(30):\n",
    "    next_val=model.predict(np.reshape(last_val_scaled, (1,1,1)))\n",
    "    obj=np.ndarray.item(last_val*next_val)\n",
    "    nextPrice.append(obj)\n",
    "    last_val=obj\n",
    "    last_val_scaled=obj/obj"
   ]
  },
  {
   "cell_type": "code",
   "execution_count": null,
   "metadata": {},
   "outputs": [],
   "source": [
    "nextPrice"
   ]
  },
  {
   "cell_type": "code",
   "execution_count": null,
   "metadata": {},
   "outputs": [],
   "source": [
    "a=[]\n",
    "for i in range(5):\n",
    "    a.append(i)"
   ]
  },
  {
   "cell_type": "code",
   "execution_count": null,
   "metadata": {},
   "outputs": [],
   "source": [
    "a"
   ]
  },
  {
   "cell_type": "code",
   "execution_count": null,
   "metadata": {},
   "outputs": [],
   "source": []
  }
 ],
 "metadata": {
  "kernelspec": {
   "display_name": "Python 3",
   "language": "python",
   "name": "python3"
  },
  "language_info": {
   "codemirror_mode": {
    "name": "ipython",
    "version": 3
   },
   "file_extension": ".py",
   "mimetype": "text/x-python",
   "name": "python",
   "nbconvert_exporter": "python",
   "pygments_lexer": "ipython3",
   "version": "3.7.6"
  }
 },
 "nbformat": 4,
 "nbformat_minor": 4
}
