{
 "cells": [
  {
   "cell_type": "markdown",
   "metadata": {},
   "source": [
    "# 1. Import Libraries"
   ]
  },
  {
   "cell_type": "code",
   "execution_count": 1,
   "metadata": {},
   "outputs": [],
   "source": [
    "import numpy as np\n",
    "import pandas as pd\n",
    "import matplotlib.pyplot as plt\n",
    "from sklearn.preprocessing import MinMaxScaler\n",
    "from sklearn.metrics import mean_squared_error\n",
    "import tensorflow as tf\n",
    "import math"
   ]
  },
  {
   "cell_type": "markdown",
   "metadata": {},
   "source": [
    "# 2. Preparing Dataset"
   ]
  },
  {
   "cell_type": "code",
   "execution_count": 11,
   "metadata": {},
   "outputs": [],
   "source": [
    "dataset = pd.read_csv('Jam.csv', usecols=[2,3,4,5], engine='python')\n",
    "dataset = dataset.reindex(index = dataset.index[::-1])"
   ]
  },
  {
   "cell_type": "code",
   "execution_count": 12,
   "metadata": {},
   "outputs": [
    {
     "data": {
      "text/html": [
       "<div>\n",
       "<style scoped>\n",
       "    .dataframe tbody tr th:only-of-type {\n",
       "        vertical-align: middle;\n",
       "    }\n",
       "\n",
       "    .dataframe tbody tr th {\n",
       "        vertical-align: top;\n",
       "    }\n",
       "\n",
       "    .dataframe thead th {\n",
       "        text-align: right;\n",
       "    }\n",
       "</style>\n",
       "<table border=\"1\" class=\"dataframe\">\n",
       "  <thead>\n",
       "    <tr style=\"text-align: right;\">\n",
       "      <th></th>\n",
       "      <th>Open</th>\n",
       "      <th>High</th>\n",
       "      <th>Low</th>\n",
       "      <th>Close</th>\n",
       "    </tr>\n",
       "  </thead>\n",
       "  <tbody>\n",
       "    <tr>\n",
       "      <th>1139</th>\n",
       "      <td>7458</td>\n",
       "      <td>7470</td>\n",
       "      <td>7340</td>\n",
       "      <td>7453</td>\n",
       "    </tr>\n",
       "    <tr>\n",
       "      <th>1138</th>\n",
       "      <td>7460</td>\n",
       "      <td>7478</td>\n",
       "      <td>7250</td>\n",
       "      <td>7420</td>\n",
       "    </tr>\n",
       "    <tr>\n",
       "      <th>1137</th>\n",
       "      <td>7448</td>\n",
       "      <td>7448</td>\n",
       "      <td>7200</td>\n",
       "      <td>7406</td>\n",
       "    </tr>\n",
       "    <tr>\n",
       "      <th>1136</th>\n",
       "      <td>7400</td>\n",
       "      <td>7469</td>\n",
       "      <td>7300</td>\n",
       "      <td>7413</td>\n",
       "    </tr>\n",
       "    <tr>\n",
       "      <th>1135</th>\n",
       "      <td>7389</td>\n",
       "      <td>7420</td>\n",
       "      <td>7301</td>\n",
       "      <td>7403</td>\n",
       "    </tr>\n",
       "  </tbody>\n",
       "</table>\n",
       "</div>"
      ],
      "text/plain": [
       "      Open  High   Low  Close\n",
       "1139  7458  7470  7340   7453\n",
       "1138  7460  7478  7250   7420\n",
       "1137  7448  7448  7200   7406\n",
       "1136  7400  7469  7300   7413\n",
       "1135  7389  7420  7301   7403"
      ]
     },
     "execution_count": 12,
     "metadata": {},
     "output_type": "execute_result"
    }
   ],
   "source": [
    "dataset.head()"
   ]
  },
  {
   "cell_type": "code",
   "execution_count": 13,
   "metadata": {},
   "outputs": [
    {
     "name": "stdout",
     "output_type": "stream",
     "text": [
      "1140\n"
     ]
    }
   ],
   "source": [
    "obs = np.arange(1, len(dataset) + 1, 1)\n",
    "print(len(dataset))"
   ]
  },
  {
   "cell_type": "code",
   "execution_count": 14,
   "metadata": {},
   "outputs": [],
   "source": [
    "OHLC_avg = dataset.mean(axis = 1)\n",
    "HLC_avg = dataset[['High', 'Low', 'Close']].mean(axis = 1)\n",
    "close_val = dataset[['Close']]"
   ]
  },
  {
   "cell_type": "code",
   "execution_count": 15,
   "metadata": {},
   "outputs": [],
   "source": [
    "OHLC_avg = np.reshape(OHLC_avg.values, (len(OHLC_avg),1)) # 1664\n",
    "scaler = MinMaxScaler(feature_range=(0, 1))\n",
    "dataset = scaler.fit_transform(OHLC_avg)"
   ]
  },
  {
   "cell_type": "code",
   "execution_count": 18,
   "metadata": {},
   "outputs": [
    {
     "data": {
      "image/png": "[encoded data removed]",
      "text/plain": [
       "<Figure size 432x288 with 1 Axes>"
      ]
     },
     "metadata": {
      "needs_background": "light"
     },
     "output_type": "display_data"
    }
   ],
   "source": [
    "plt.plot(scaler.inverse_transform(dataset), 'red')\n",
    "plt.show()"
   ]
  },
  {
   "cell_type": "code",
   "execution_count": 20,
   "metadata": {},
   "outputs": [
    {
     "name": "stdout",
     "output_type": "stream",
     "text": [
      "800 340\n"
     ]
    }
   ],
   "source": [
    "#train_size = int(len(dataset) * 0.98)\n",
    "#test_size = len(dataset) - train_size\n",
    "#train, test = dataset[0:train_size,:], dataset[train_size:len(dataset),:]\n",
    "train, test = dataset[0:800,:], dataset[800:len(dataset),:]\n",
    "\n",
    "print(len(train), len(test))"
   ]
  },
  {
   "cell_type": "code",
   "execution_count": 21,
   "metadata": {},
   "outputs": [],
   "source": [
    "def create_dataset(dataset, look_back=30):\n",
    "    dataX, dataY = [], []\n",
    "    for i in range(len(dataset)-look_back-1):\n",
    "        a = dataset[i:(i+look_back), 0]\n",
    "        dataX.append(a)\n",
    "        dataY.append(dataset[i + look_back, 0])\n",
    "    return np.array(dataX), np.array(dataY)"
   ]
  },
  {
   "cell_type": "code",
   "execution_count": 22,
   "metadata": {},
   "outputs": [],
   "source": [
    "look_back = 1\n",
    "trainX, trainY = create_dataset(train, look_back)\n",
    "testX, testY = create_dataset(test, look_back)"
   ]
  },
  {
   "cell_type": "code",
   "execution_count": 23,
   "metadata": {},
   "outputs": [
    {
     "name": "stdout",
     "output_type": "stream",
     "text": [
      "shape of train dataset (798, 1, 1)\n",
      "shape of test dataset (338, 1, 1)\n"
     ]
    }
   ],
   "source": [
    "trainX = np.reshape(trainX, (trainX.shape[0], 1, trainX.shape[1]))\n",
    "testX = np.reshape(testX, (testX.shape[0], 1, testX.shape[1]))\n",
    "\n",
    "print('shape of train dataset',trainX.shape)\n",
    "print('shape of test dataset',testX.shape)"
   ]
  },
  {
   "cell_type": "code",
   "execution_count": 24,
   "metadata": {},
   "outputs": [],
   "source": [
    "model = tf.keras.models.Sequential()\n",
    "model.add(tf.keras.layers.LSTM(32, input_shape=(1, look_back),return_sequences = True))\n",
    "model.add(tf.keras.layers.LSTM(16))\n",
    "model.add(tf.keras.layers.Dense(1,activation='sigmoid'))"
   ]
  },
  {
   "cell_type": "code",
   "execution_count": 25,
   "metadata": {},
   "outputs": [
    {
     "name": "stdout",
     "output_type": "stream",
     "text": [
      "Model: \"sequential\"\n",
      "_________________________________________________________________\n",
      "Layer (type)                 Output Shape              Param #   \n",
      "=================================================================\n",
      "lstm (LSTM)                  (None, 1, 32)             4352      \n",
      "_________________________________________________________________\n",
      "lstm_1 (LSTM)                (None, 16)                3136      \n",
      "_________________________________________________________________\n",
      "dense (Dense)                (None, 1)                 17        \n",
      "=================================================================\n",
      "Total params: 7,505\n",
      "Trainable params: 7,505\n",
      "Non-trainable params: 0\n",
      "_________________________________________________________________\n"
     ]
    }
   ],
   "source": [
    "model.summary()"
   ]
  },
  {
   "cell_type": "code",
   "execution_count": 26,
   "metadata": {},
   "outputs": [],
   "source": [
    "model.compile(loss='mse', optimizer='adam')"
   ]
  },
  {
   "cell_type": "code",
   "execution_count": 27,
   "metadata": {},
   "outputs": [
    {
     "name": "stdout",
     "output_type": "stream",
     "text": [
      "Epoch 1/20\n",
      "798/798 [==============================] - 5s 6ms/step - loss: 0.0247\n",
      "Epoch 2/20\n",
      "798/798 [==============================] - 5s 6ms/step - loss: 0.0031\n",
      "Epoch 3/20\n",
      "798/798 [==============================] - 4s 5ms/step - loss: 0.0017\n",
      "Epoch 4/20\n",
      "798/798 [==============================] - 5s 6ms/step - loss: 3.6207e-04\n",
      "Epoch 5/20\n",
      "798/798 [==============================] - 4s 5ms/step - loss: 2.2705e-04\n",
      "Epoch 6/20\n",
      "798/798 [==============================] - 5s 6ms/step - loss: 2.1956e-04\n",
      "Epoch 7/20\n",
      "798/798 [==============================] - 4s 5ms/step - loss: 2.1107e-04\n",
      "Epoch 8/20\n",
      "798/798 [==============================] - 4s 5ms/step - loss: 2.0145e-04\n",
      "Epoch 9/20\n",
      "798/798 [==============================] - 4s 5ms/step - loss: 1.8349e-04\n",
      "Epoch 10/20\n",
      "798/798 [==============================] - 5s 6ms/step - loss: 1.7292e-04\n",
      "Epoch 11/20\n",
      "798/798 [==============================] - 4s 5ms/step - loss: 1.7055e-04\n",
      "Epoch 12/20\n",
      "798/798 [==============================] - 4s 6ms/step - loss: 1.5362e-04\n",
      "Epoch 13/20\n",
      "798/798 [==============================] - 4s 5ms/step - loss: 1.3726e-04\n",
      "Epoch 14/20\n",
      "798/798 [==============================] - 4s 5ms/step - loss: 1.2549e-04\n",
      "Epoch 15/20\n",
      "798/798 [==============================] - 6s 8ms/step - loss: 1.1653e-04\n",
      "Epoch 16/20\n",
      "798/798 [==============================] - 6s 8ms/step - loss: 1.1193e-04\n",
      "Epoch 17/20\n",
      "798/798 [==============================] - 5s 7ms/step - loss: 1.0263e-04\n",
      "Epoch 18/20\n",
      "798/798 [==============================] - 5s 6ms/step - loss: 9.6054e-05\n",
      "Epoch 19/20\n",
      "798/798 [==============================] - 6s 7ms/step - loss: 8.8955e-05\n",
      "Epoch 20/20\n",
      "798/798 [==============================] - 5s 7ms/step - loss: 8.2238e-05\n"
     ]
    }
   ],
   "source": [
    "history = model.fit(trainX, trainY, epochs=20, batch_size=1, verbose=1)"
   ]
  },
  {
   "cell_type": "code",
   "execution_count": 28,
   "metadata": {},
   "outputs": [],
   "source": [
    "trainPredict = model.predict(trainX)\n",
    "testPredict = model.predict(testX)"
   ]
  },
  {
   "cell_type": "code",
   "execution_count": 29,
   "metadata": {},
   "outputs": [],
   "source": [
    "trainPredict = scaler.inverse_transform(trainPredict)\n",
    "trainY = scaler.inverse_transform([trainY])\n",
    "testPredict = scaler.inverse_transform(testPredict)\n",
    "testY = scaler.inverse_transform([testY])"
   ]
  },
  {
   "cell_type": "code",
   "execution_count": 30,
   "metadata": {},
   "outputs": [
    {
     "name": "stdout",
     "output_type": "stream",
     "text": [
      "Train Score: 401.24 RMSE\n",
      "Test Score: 5552.72 RMSE\n"
     ]
    }
   ],
   "source": [
    "trainScore = math.sqrt(mean_squared_error(trainY[0], trainPredict[:,0]))\n",
    "print('Train Score: %.2f RMSE' % (trainScore))\n",
    "testScore = math.sqrt(mean_squared_error(testY[0], testPredict[:,0]))\n",
    "print('Test Score: %.2f RMSE' % (testScore))"
   ]
  },
  {
   "cell_type": "code",
   "execution_count": 31,
   "metadata": {},
   "outputs": [],
   "source": [
    "trainPredictPlot = np.empty_like(dataset)\n",
    "trainPredictPlot[:, :] = np.nan\n",
    "trainPredictPlot[look_back:len(trainPredict)+look_back, :] = trainPredict"
   ]
  },
  {
   "cell_type": "code",
   "execution_count": 32,
   "metadata": {},
   "outputs": [],
   "source": [
    "testPredictPlot = np.empty_like(dataset)\n",
    "testPredictPlot[:, :] = np.nan\n",
    "testPredictPlot[len(trainPredict)+(look_back*2)+1:len(dataset)-1, :] = testPredict"
   ]
  },
  {
   "cell_type": "code",
   "execution_count": 33,
   "metadata": {},
   "outputs": [
    {
     "data": {
      "image/png": "[encoded data removed]",
      "text/plain": [
       "<Figure size 432x288 with 1 Axes>"
      ]
     },
     "metadata": {
      "needs_background": "light"
     },
     "output_type": "display_data"
    }
   ],
   "source": [
    "plt.plot(scaler.inverse_transform(dataset), 'red')\n",
    "plt.plot(trainPredictPlot, 'blue')\n",
    "plt.plot(testPredictPlot, 'green')\n",
    "plt.show()"
   ]
  },
  {
   "cell_type": "code",
   "execution_count": 42,
   "metadata": {},
   "outputs": [
    {
     "name": "stdout",
     "output_type": "stream",
     "text": [
      "Last Day Value: 11088.6220703125\n",
      "Next Day Value: 3717.947998046875\n"
     ]
    }
   ],
   "source": [
    "last_val = trainPredict[-1]\n",
    "last_val_scaled = last_val/last_val\n",
    "next_val = model.predict(np.reshape(last_val_scaled, (1,1,1)))\n",
    "b=np.ndarray.item(last_val*next_val)\n",
    "print(\"Last Day Value:\", np.ndarray.item(last_val))\n",
    "print(\"Next Day Value:\", b)"
   ]
  },
  {
   "cell_type": "code",
   "execution_count": 44,
   "metadata": {},
   "outputs": [
    {
     "name": "stdout",
     "output_type": "stream",
     "text": [
      "Next Day Value: 1128.17529296875\n"
     ]
    }
   ],
   "source": [
    "next_valN = model.predict(np.reshape(next_val, (1,1,1)))\n",
    "print(\"Next Day Value:\", np.ndarray.item(next_valN* b))"
   ]
  },
  {
   "cell_type": "code",
   "execution_count": 38,
   "metadata": {},
   "outputs": [
    {
     "name": "stdout",
     "output_type": "stream",
     "text": [
      "Last Day Value: 7.221339402174366e-40\n",
      "Next Day Value: 2.421275590537565e-40\n"
     ]
    }
   ],
   "source": [
    "new=next_val*last_val\n",
    "newscaled=new/new\n",
    "next_val = model.predict(np.reshape(newscaled, (1,1,1)))\n",
    "print(\"Last Day Value:\", np.ndarray.item(new))\n",
    "print(\"Next Day Value:\", np.ndarray.item(new*next_val))"
   ]
  },
  {
   "cell_type": "code",
   "execution_count": 36,
   "metadata": {},
   "outputs": [],
   "source": [
    "last_val = trainPredict[-1]\n",
    "last_val_scaled = last_val/last_val\n",
    "\n",
    "nextPrice=[]\n",
    "for i in range(90):\n",
    "    next_val=model.predict(np.reshape(last_val_scaled, (1,1,1)))\n",
    "    obj=np.ndarray.item(last_val*next_val)\n",
    "    nextPrice.append(obj)\n",
    "    last_val=obj\n",
    "    last_val_scaled=obj/obj"
   ]
  },
  {
   "cell_type": "code",
   "execution_count": 37,
   "metadata": {},
   "outputs": [
    {
     "data": {
      "text/plain": [
       "[3717.947998046875,\n",
       " 1246.60546875,\n",
       " 417.9792785644531,\n",
       " 140.1459197998047,\n",
       " 46.99007797241211,\n",
       " 15.755488395690918,\n",
       " 5.28272008895874,\n",
       " 1.7712640762329102,\n",
       " 0.5938941240310669,\n",
       " 0.1991291046142578,\n",
       " 0.06676678359508514,\n",
       " 0.022386498749256134,\n",
       " 0.007506057620048523,\n",
       " 0.0025167358107864857,\n",
       " 0.0008438462973572314,\n",
       " 0.00028293655486777425,\n",
       " 9.486691124038771e-05,\n",
       " 3.1808300263946876e-05,\n",
       " 1.0665130503184628e-05,\n",
       " 3.575953769541229e-06,\n",
       " 1.1989956192337559e-06,\n",
       " 4.0201598494604696e-07,\n",
       " 1.3479352389822452e-07,\n",
       " 4.5195452713642226e-08,\n",
       " 1.515376268912405e-08,\n",
       " 5.080964982084879e-09,\n",
       " 1.7036168031836496e-09,\n",
       " 5.712124107049021e-10,\n",
       " 1.9152406049993687e-10,\n",
       " 6.421686099544743e-11,\n",
       " 2.1531524826978732e-11,\n",
       " 7.219390016355298e-12,\n",
       " 2.4206177427071873e-12,\n",
       " 8.116184590720166e-13,\n",
       " 2.7213076085087773e-13,\n",
       " 9.124379854105746e-14,\n",
       " 3.0593495130900455e-14,\n",
       " 1.0257813783771334e-14,\n",
       " 3.4393827880402437e-15,\n",
       " 1.1532042292259183e-15,\n",
       " 3.866623877294708e-16,\n",
       " 1.2964555265265293e-16,\n",
       " 4.346937020234362e-17,\n",
       " 1.457501669177418e-17,\n",
       " 4.886914816562752e-18,\n",
       " 1.6385529764195544e-18,\n",
       " 5.493969226430465e-19,\n",
       " 1.8420946472628813e-19,\n",
       " 6.176431618137014e-20,\n",
       " 2.070920172741097e-20,\n",
       " 6.94366990905479e-21,\n",
       " 2.3281705159676042e-21,\n",
       " 7.806214613252573e-22,\n",
       " 2.6173766173444305e-22,\n",
       " 8.775905283362056e-23,\n",
       " 2.94250797445955e-23,\n",
       " 9.86605141649306e-24,\n",
       " 3.3080272665393847e-24,\n",
       " 1.1091615069222203e-24,\n",
       " 3.718951370867671e-25,\n",
       " 1.2469418325644395e-25,\n",
       " 4.1809205812869816e-26,\n",
       " 1.401837413828826e-26,\n",
       " 4.700275940479781e-27,\n",
       " 1.5759741253139894e-27,\n",
       " 5.284146062431065e-28,\n",
       " 1.7717421597107812e-28,\n",
       " 5.940544154230797e-29,\n",
       " 1.9918284962367063e-29,\n",
       " 6.678480311993395e-30,\n",
       " 2.239254107977446e-30,\n",
       " 7.508083663334811e-31,\n",
       " 2.5174149567351243e-31,\n",
       " 8.440740041835132e-32,\n",
       " 2.8301290152473706e-32,\n",
       " 9.489251615409842e-33,\n",
       " 3.181688518851608e-33,\n",
       " 1.0668008881410623e-33,\n",
       " 3.576918877368091e-34,\n",
       " 1.1993192335905552e-34,\n",
       " 4.0212447791165617e-35,\n",
       " 1.3482990515483384e-35,\n",
       " 4.520765162889835e-36,\n",
       " 1.5157852214834175e-36,\n",
       " 5.0823359933042895e-37,\n",
       " 1.7040764629920946e-37,\n",
       " 5.713665008306338e-38,\n",
       " 1.9157573096622336e-38,\n",
       " 6.423417635812386e-39,\n",
       " 2.1537326812363492e-39]"
      ]
     },
     "execution_count": 37,
     "metadata": {},
     "output_type": "execute_result"
    }
   ],
   "source": [
    "nextPrice"
   ]
  },
  {
   "cell_type": "code",
   "execution_count": 25,
   "metadata": {},
   "outputs": [],
   "source": [
    "a=[]\n",
    "for i in range(5):\n",
    "    a.append(i)"
   ]
  },
  {
   "cell_type": "code",
   "execution_count": 26,
   "metadata": {},
   "outputs": [
    {
     "data": {
      "text/plain": [
       "[0, 1, 2, 3, 4]"
      ]
     },
     "execution_count": 26,
     "metadata": {},
     "output_type": "execute_result"
    }
   ],
   "source": [
    "a"
   ]
  },
  {
   "cell_type": "code",
   "execution_count": null,
   "metadata": {},
   "outputs": [],
   "source": []
  }
 ],
 "metadata": {
  "kernelspec": {
   "display_name": "Python 3",
   "language": "python",
   "name": "python3"
  },
  "language_info": {
   "codemirror_mode": {
    "name": "ipython",
    "version": 3
   },
   "file_extension": ".py",
   "mimetype": "text/x-python",
   "name": "python",
   "nbconvert_exporter": "python",
   "pygments_lexer": "ipython3",
   "version": "3.7.6"
  }
 },
 "nbformat": 4,
 "nbformat_minor": 4
}
